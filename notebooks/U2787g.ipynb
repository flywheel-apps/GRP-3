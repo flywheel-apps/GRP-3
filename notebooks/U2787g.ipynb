{
 "cells": [
  {
   "cell_type": "markdown",
   "metadata": {},
   "source": [
    "## Imports and logging"
   ]
  },
  {
   "cell_type": "code",
   "execution_count": 2,
   "metadata": {},
   "outputs": [],
   "source": [
    "import os\n",
    "import re\n",
    "import json\n",
    "import jsonschema\n",
    "import pandas as pd\n",
    "import numpy as np\n",
    "import logging\n",
    "logging.basicConfig()\n",
    "log = logging.getLogger('U2787g')"
   ]
  },
  {
   "cell_type": "markdown",
   "metadata": {},
   "source": [
    "## Functions"
   ]
  },
  {
   "cell_type": "code",
   "execution_count": 51,
   "metadata": {},
   "outputs": [],
   "source": [
    "def validate_against_template(input_dict, template, error_log_path):\n",
    "    \"\"\"\n",
    "    This is a function for validating a dictionary against a template. Given\n",
    "    an input_dict and a template object, it will create a JSON schema validator\n",
    "    and construct an object that is a list of error dictionaries. It will write a\n",
    "    JSON file to the specified error_log_path and return the validation_errors object as\n",
    "    well as log each error.message to log.errors\n",
    "\n",
    "    :param input_dict: a dictionary of DICOM header data to be validated\n",
    "    :param template: a template dictionary to validate against\n",
    "    :param error_log_path: the path to which to write error log JSON\n",
    "    :return: validation_errors, an object containing information on validation errors\n",
    "    \"\"\"\n",
    "    # Initialize json schema validator\n",
    "    validator = jsonschema.Draft7Validator(template)\n",
    "    # Initialize list object for storing validation errors\n",
    "    validation_errors = []\n",
    "    for error in sorted(validator.iter_errors(input_dict), key=str):\n",
    "        # Create a temporary dictionary for the individual error\n",
    "        tmp_dict = {}\n",
    "        # Get error type\n",
    "        tmp_dict['error_type'] = error.validator\n",
    "        # Get error message and log it\n",
    "        tmp_dict['error_message'] = error.message\n",
    "        log.error(error.message)\n",
    "        # Required field errors are a little special and need to be handled\n",
    "        # separately to get the field. We don't get the schema because it\n",
    "        # will print the entire template schema\n",
    "        if error.validator == \"required\":\n",
    "            # Get the item failing validation from the error message\n",
    "            tmp_dict['item'] = 'info.' + error.message.split(\"'\")[1]\n",
    "        # Get additional information for pattern and type errors\n",
    "        elif error.validator in (\"pattern\", \"type\"):\n",
    "            # Get the value of the field that failed validation\n",
    "            tmp_dict['error_value'] = error.instance\n",
    "            # Get the field that failed validation\n",
    "            tmp_dict['item'] = 'info.' + str(error.path.pop())\n",
    "            # Get the schema object used to validate in failed validation\n",
    "            tmp_dict['schema'] = error.schema\n",
    "        elif error.validator == \"anyOf\":\n",
    "            tmp_dict['schema'] = {\"anyOf\": {error.schema['anyOf']}}\n",
    "        else:\n",
    "            pass\n",
    "        # Append individual error object to the return validation_errors object\n",
    "        validation_errors.append(tmp_dict)\n",
    "\n",
    "    with open(error_log_path, 'w') as outfile:\n",
    "        json.dump(validation_errors, outfile, separators=(', ', ': '), sort_keys=True, indent=4)\n",
    "    return validation_errors"
   ]
  },
  {
   "cell_type": "markdown",
   "metadata": {},
   "source": [
    "## Load in JSON Schema template"
   ]
  },
  {
   "cell_type": "code",
   "execution_count": 16,
   "metadata": {},
   "outputs": [],
   "source": [
    "template_filepath = \"U2787g_template\"\n",
    "\n",
    "with open(template_filepath) as template_data:\n",
    "    template_json = json.load(template_data)"
   ]
  },
  {
   "cell_type": "code",
   "execution_count": 22,
   "metadata": {},
   "outputs": [],
   "source": [
    "test_dictionary = {\n",
    "    \"Modality\": \"CT\",\n",
    "    \"ImageType\": \"SCREEN SAVE\",\n",
    "    \"PatientID\": \"55555\",\n",
    "}"
   ]
  },
  {
   "cell_type": "code",
   "execution_count": 52,
   "metadata": {},
   "outputs": [
    {
     "name": "stderr",
     "output_type": "stream",
     "text": [
      "ERROR:U2787g:'CT' does not match 'MR'\n",
      "ERROR:U2787g:'SCREEN SAVE' does not match '^(?!SCREEN SAVE).*$'\n",
      "ERROR:U2787g:{'Modality': 'CT', 'ImageType': 'SCREEN SAVE', 'PatientID': '55555'} is not valid under any of the given schemas\n"
     ]
    },
    {
     "ename": "TypeError",
     "evalue": "unhashable type: 'list'",
     "output_type": "error",
     "traceback": [
      "\u001b[0;31m---------------------------------------------------------------------------\u001b[0m",
      "\u001b[0;31mTypeError\u001b[0m                                 Traceback (most recent call last)",
      "\u001b[0;32m<ipython-input-52-c44cfdf5ea20>\u001b[0m in \u001b[0;36m<module>\u001b[0;34m\u001b[0m\n\u001b[0;32m----> 1\u001b[0;31m \u001b[0mvalidate_against_template\u001b[0m\u001b[0;34m(\u001b[0m\u001b[0mtest_dictionary\u001b[0m\u001b[0;34m,\u001b[0m \u001b[0mtemplate_json\u001b[0m\u001b[0;34m,\u001b[0m \u001b[0;34m\"error.log.json\"\u001b[0m\u001b[0;34m)\u001b[0m\u001b[0;34m\u001b[0m\u001b[0;34m\u001b[0m\u001b[0m\n\u001b[0m",
      "\u001b[0;32m<ipython-input-51-ad84c843ffa6>\u001b[0m in \u001b[0;36mvalidate_against_template\u001b[0;34m(input_dict, template, error_log_path)\u001b[0m\n\u001b[1;32m     39\u001b[0m             \u001b[0mtmp_dict\u001b[0m\u001b[0;34m[\u001b[0m\u001b[0;34m'schema'\u001b[0m\u001b[0;34m]\u001b[0m \u001b[0;34m=\u001b[0m \u001b[0merror\u001b[0m\u001b[0;34m.\u001b[0m\u001b[0mschema\u001b[0m\u001b[0;34m\u001b[0m\u001b[0;34m\u001b[0m\u001b[0m\n\u001b[1;32m     40\u001b[0m         \u001b[0;32melif\u001b[0m \u001b[0merror\u001b[0m\u001b[0;34m.\u001b[0m\u001b[0mvalidator\u001b[0m \u001b[0;34m==\u001b[0m \u001b[0;34m\"anyOf\"\u001b[0m\u001b[0;34m:\u001b[0m\u001b[0;34m\u001b[0m\u001b[0;34m\u001b[0m\u001b[0m\n\u001b[0;32m---> 41\u001b[0;31m             \u001b[0mtmp_dict\u001b[0m\u001b[0;34m[\u001b[0m\u001b[0;34m'schema'\u001b[0m\u001b[0;34m]\u001b[0m \u001b[0;34m=\u001b[0m \u001b[0;34m{\u001b[0m\u001b[0;34m\"anyOf\"\u001b[0m\u001b[0;34m:\u001b[0m \u001b[0;34m{\u001b[0m\u001b[0merror\u001b[0m\u001b[0;34m.\u001b[0m\u001b[0mschema\u001b[0m\u001b[0;34m[\u001b[0m\u001b[0;34m'anyOf'\u001b[0m\u001b[0;34m]\u001b[0m\u001b[0;34m}\u001b[0m\u001b[0;34m}\u001b[0m\u001b[0;34m\u001b[0m\u001b[0;34m\u001b[0m\u001b[0m\n\u001b[0m\u001b[1;32m     42\u001b[0m         \u001b[0;32melse\u001b[0m\u001b[0;34m:\u001b[0m\u001b[0;34m\u001b[0m\u001b[0;34m\u001b[0m\u001b[0m\n\u001b[1;32m     43\u001b[0m             \u001b[0;32mpass\u001b[0m\u001b[0;34m\u001b[0m\u001b[0;34m\u001b[0m\u001b[0m\n",
      "\u001b[0;31mTypeError\u001b[0m: unhashable type: 'list'"
     ]
    }
   ],
   "source": [
    "validate_against_template(test_dictionary, template_json, \"error.log.json\")"
   ]
  },
  {
   "cell_type": "code",
   "execution_count": 20,
   "metadata": {},
   "outputs": [],
   "source": [
    "# Initialize json schema validator\n",
    "validator = jsonschema.Draft7Validator(template_json)"
   ]
  },
  {
   "cell_type": "code",
   "execution_count": 48,
   "metadata": {},
   "outputs": [
    {
     "name": "stdout",
     "output_type": "stream",
     "text": [
      "pattern\n",
      "pattern\n",
      "anyOf\n",
      "{'properties': {'ImageType': {'description': \"ImageType cannot be 'SCREEN SAVE'\", 'type': 'string', 'pattern': '^(?!SCREEN SAVE).*$'}, 'Modality': {'description': \"Modality must match 'MR'\", 'pattern': 'MR', 'type': 'string'}, 'PatientID': {'description': 'PatientID must be 5 numeric characters', 'pattern': '^[0-9]{5}$', 'type': 'string'}}, 'type': 'object', 'anyOf': [{'required': ['AcquisitionDate']}, {'required': ['SeriesDate']}, {'required': ['StudyDate']}]}\n"
     ]
    }
   ],
   "source": [
    "for error in sorted(validator.iter_errors(test_dictionary), key=str):\n",
    "    print(error.validator)\n",
    "    if error.validator == \"anyOf\":\n",
    "        print(error.schema)"
   ]
  },
  {
   "cell_type": "code",
   "execution_count": null,
   "metadata": {},
   "outputs": [],
   "source": []
  }
 ],
 "metadata": {
  "kernelspec": {
   "display_name": "Python 3",
   "language": "python",
   "name": "python3"
  },
  "language_info": {
   "codemirror_mode": {
    "name": "ipython",
    "version": 3
   },
   "file_extension": ".py",
   "mimetype": "text/x-python",
   "name": "python",
   "nbconvert_exporter": "python",
   "pygments_lexer": "ipython3",
   "version": "3.7.1"
  }
 },
 "nbformat": 4,
 "nbformat_minor": 2
}
